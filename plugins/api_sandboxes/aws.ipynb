{
 "cells": [
  {
   "cell_type": "code",
   "execution_count": 1,
   "metadata": {},
   "outputs": [],
   "source": [
    "%load_ext autoreload\n",
    "%autoreload 2"
   ]
  },
  {
   "cell_type": "code",
   "execution_count": 1,
   "metadata": {},
   "outputs": [],
   "source": [
    "from resoto_plugin_aws.config import AwsConfig\n",
    "from resoto_plugin_aws.aws_client import AwsClient\n",
    "from resotolib.json_bender import bend"
   ]
  },
  {
   "cell_type": "code",
   "execution_count": 3,
   "metadata": {},
   "outputs": [],
   "source": [
    "# Have the following ready in the aws credentials file:\n",
    "# [default]\n",
    "# aws_access_key_id= \n",
    "# aws_secret_access_key=\n",
    "# aws_session_token="
   ]
  },
  {
   "cell_type": "code",
   "execution_count": 4,
   "metadata": {},
   "outputs": [],
   "source": [
    "client = AwsClient(AwsConfig(None, None), \"foo\")\n",
    "\n",
    "# out = client.call(\"service\", \"action\", result_name=None)\n",
    "# out"
   ]
  }
 ],
 "metadata": {
  "kernelspec": {
   "display_name": "Python 3.10.5 ('venv': venv)",
   "language": "python",
   "name": "python3"
  },
  "language_info": {
   "codemirror_mode": {
    "name": "ipython",
    "version": 3
   },
   "file_extension": ".py",
   "mimetype": "text/x-python",
   "name": "python",
   "nbconvert_exporter": "python",
   "pygments_lexer": "ipython3",
   "version": "3.10.5"
  },
  "orig_nbformat": 4,
  "vscode": {
   "interpreter": {
    "hash": "f08fc2acd83bdb3b481ebe897fb59912c9a61f954dbbc9aff9c4228fbd0dd9ba"
   }
  }
 },
 "nbformat": 4,
 "nbformat_minor": 2
}
