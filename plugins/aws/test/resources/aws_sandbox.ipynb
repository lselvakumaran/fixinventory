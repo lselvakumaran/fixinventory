{
 "cells": [
  {
   "cell_type": "code",
   "execution_count": 1,
   "metadata": {},
   "outputs": [],
   "source": [
    "%load_ext autoreload\n",
    "%autoreload 2"
   ]
  },
  {
   "cell_type": "code",
   "execution_count": 54,
   "metadata": {},
   "outputs": [],
   "source": [
    "from resoto_plugin_aws.config import AwsConfig\n",
    "from resoto_plugin_aws.aws_client import AwsClient\n",
    "from resotolib.json_bender import bend\n"
   ]
  },
  {
   "cell_type": "code",
   "execution_count": 55,
   "metadata": {},
   "outputs": [],
   "source": [
    "AWS_ACCESS_KEY_ID=\"\"\n",
    "AWS_SECRET_ACCESS_KEY=\"\"\n",
    "AWS_SESSION_TOKEN=\"\""
   ]
  },
  {
   "cell_type": "code",
   "execution_count": 56,
   "metadata": {},
   "outputs": [
    {
     "name": "stderr",
     "output_type": "stream",
     "text": [
      "{\"timestamp\": \"2022-08-18T15:06:14\", \"level\": \"INFO\", \"message\": \"[Aws] call service=ec2 action=describe-volumes\", \"pid\": 38811, \"thread\": \"MainThread\", \"process\": \"resoto\"}\n",
      "{\"timestamp\": \"2022-08-18T15:06:14\", \"level\": \"INFO\", \"message\": \"Create a new AWS session holder\", \"pid\": 38811, \"thread\": \"MainThread\", \"process\": \"resoto\"}\n",
      "{\"timestamp\": \"2022-08-18T15:06:14\", \"level\": \"INFO\", \"message\": \"[Aws] call service=ec2 action=describe-volumes: 1 results.\", \"pid\": 38811, \"thread\": \"MainThread\", \"process\": \"resoto\"}\n"
     ]
    },
    {
     "data": {
      "text/plain": [
       "[{'Volumes': [],\n",
       "  'ResponseMetadata': {'RequestId': 'fa0e5657-4125-4215-9af9-aab991fd54b9',\n",
       "   'HTTPStatusCode': 200,\n",
       "   'HTTPHeaders': {'x-amzn-requestid': 'fa0e5657-4125-4215-9af9-aab991fd54b9',\n",
       "    'cache-control': 'no-cache, no-store',\n",
       "    'strict-transport-security': 'max-age=31536000; includeSubDomains',\n",
       "    'content-type': 'text/xml;charset=UTF-8',\n",
       "    'content-length': '221',\n",
       "    'date': 'Thu, 18 Aug 2022 13:06:13 GMT',\n",
       "    'server': 'AmazonEC2'},\n",
       "   'RetryAttempts': 0}}]"
      ]
     },
     "execution_count": 56,
     "metadata": {},
     "output_type": "execute_result"
    }
   ],
   "source": [
    "client = AwsClient(AwsConfig(None, None), \"foo\")\n",
    "\n",
    "client.AWS_ACCESS_KEY_ID = AWS_ACCESS_KEY_ID \n",
    "client.AWS_SECRET_ACCESS_KEY = AWS_SECRET_ACCESS_KEY\n",
    "client.AWS_SESSION_TOKEN = AWS_SESSION_TOKEN\n",
    "# out = client.call(\"ec2\", \"describe-volumes\", result_name=None)\n",
    "# out"
   ]
  }
 ],
 "metadata": {
  "kernelspec": {
   "display_name": "Python 3.10.5 ('venv': venv)",
   "language": "python",
   "name": "python3"
  },
  "language_info": {
   "codemirror_mode": {
    "name": "ipython",
    "version": 3
   },
   "file_extension": ".py",
   "mimetype": "text/x-python",
   "name": "python",
   "nbconvert_exporter": "python",
   "pygments_lexer": "ipython3",
   "version": "3.10.5"
  },
  "orig_nbformat": 4,
  "vscode": {
   "interpreter": {
    "hash": "f08fc2acd83bdb3b481ebe897fb59912c9a61f954dbbc9aff9c4228fbd0dd9ba"
   }
  }
 },
 "nbformat": 4,
 "nbformat_minor": 2
}
